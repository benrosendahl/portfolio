{
 "cells": [
  {
   "cell_type": "markdown",
   "id": "89ef2a3d-8b2d-4065-ba43-d2fbf5a19534",
   "metadata": {},
   "source": [
    "# Data Analysis with Python: Cyber attacks\n",
    "# Benjamin Rosendahl, November 2024\n",
    "\n",
    "## Aims and projectives\n",
    "The database \"cyber\" (source: Kaggle) lists cyber attacks by date and time, (attacked) country, attack type, severity level, action taken etc.\n",
    "Using Python with the pandas, numpy, seaborn and madpotlib libraries, I will try to map the cyber attacks as follows:\n",
    "- by country\n",
    "- by month and year\n",
    "- by attack type\n",
    "- by severity level\n",
    "- by action taken\n",
    "\n",
    "## Research questions\n",
    "- Which countries are attacked the most, which the least, and why?\n",
    "- What is the average number of attack per time, per country and combined?\n",
    "- What is the average severity level per attack type, country, per month, per year? What is the standard deviation?\n",
    "- What is the median severity level per attack type, country, per month, per year? What is the standard deviation?\n",
    "- When (year and month) do cyber attacks occur more frequently, when less?\n",
    "- At what times and where is the severity level the highest?\n",
    "- Are different countries attacked at different times, by different attack types and at different severity level?\n",
    "\n",
    "## Assumptions\n",
    "- The more advanced the country is, the higher is the number and severity level of the attack\n",
    "- Different countries are attacked by different type of cyber attacks, according to their infrastructure (for example, cell phone network)\n",
    "- There are regular high and low peak times for attacks (for example, summer - low, because of vacation, winter - high, because of larger amount of time spent indoors in front of computers)\n",
    "- There are irregular peaks for attacks (for example, 2020 - Corona, everybody stayed at home, and face-to-face meetings where converted to Zoom meetings, meaning more exposure)\n",
    "- Different actions are taken against different types of attacks, different levels of attacks and different countries    "
   ]
  },
  {
   "cell_type": "markdown",
   "id": "ff3145ef-9ac4-4514-a461-ab78c7e4127f",
   "metadata": {},
   "source": [
    "### Importing relevant libraries and uploading database"
   ]
  },
  {
   "cell_type": "code",
   "execution_count": 1,
   "id": "cf0f8b6e-48a4-4102-a6cb-b8c825748551",
   "metadata": {},
   "outputs": [],
   "source": [
    "import pandas as pd\n",
    "import numpy as np\n",
    "import seaborn as sns\n",
    "import matplotlib as mpl\n",
    "import matplotlib.pyplot as plt\n",
    "%matplotlib inline"
   ]
  },
  {
   "cell_type": "code",
   "execution_count": 2,
   "id": "7085a8a4-cf55-4bc1-80db-52e052ac749f",
   "metadata": {},
   "outputs": [],
   "source": [
    "cyber = pd.read_csv(\"CYBER.csv\")"
   ]
  },
  {
   "cell_type": "markdown",
   "id": "6371a35f-8417-429e-97ed-9f5db4d8a34d",
   "metadata": {},
   "source": [
    "### Basic analysis of data"
   ]
  },
  {
   "cell_type": "code",
   "execution_count": 3,
   "id": "b7288ec3-3c01-410a-b2ff-310a1357890d",
   "metadata": {},
   "outputs": [
    {
     "name": "stdout",
     "output_type": "stream",
     "text": [
      "<class 'pandas.core.frame.DataFrame'>\n",
      "RangeIndex: 40000 entries, 0 to 39999\n",
      "Data columns (total 24 columns):\n",
      " #   Column                  Non-Null Count  Dtype  \n",
      "---  ------                  --------------  -----  \n",
      " 0   Timestamp               40000 non-null  object \n",
      " 1   Source IP Address       40000 non-null  object \n",
      " 2   Destination IP Address  40000 non-null  object \n",
      " 3   Source Port             40000 non-null  int64  \n",
      " 4   Destination Port        40000 non-null  int64  \n",
      " 5   Protocol                40000 non-null  object \n",
      " 6   Packet Length           40000 non-null  int64  \n",
      " 7   Packet Type             40000 non-null  object \n",
      " 8   Traffic Type            40000 non-null  object \n",
      " 9   Malware Indicators      20000 non-null  object \n",
      " 10  Anomaly Scores          40000 non-null  float64\n",
      " 11  Alerts/Warnings         19933 non-null  object \n",
      " 12  Attack Type             40000 non-null  object \n",
      " 13  Attack Signature        40000 non-null  object \n",
      " 14  Action Taken            40000 non-null  object \n",
      " 15  Severity Level          40000 non-null  object \n",
      " 16  User Information        40000 non-null  object \n",
      " 17  Device Information      40000 non-null  object \n",
      " 18  Network Segment         40000 non-null  object \n",
      " 19  country                 39628 non-null  object \n",
      " 20  Proxy Information       20149 non-null  object \n",
      " 21  Firewall Logs           20039 non-null  object \n",
      " 22  IDS/IPS Alerts          19950 non-null  object \n",
      " 23  LA1:X1108og Source      40000 non-null  object \n",
      "dtypes: float64(1), int64(3), object(20)\n",
      "memory usage: 7.3+ MB\n"
     ]
    }
   ],
   "source": [
    "# Names of columns and datatypes\n",
    "cyber.info()"
   ]
  },
  {
   "cell_type": "code",
   "execution_count": 4,
   "id": "4dd2fdfa-dd4a-44dd-baef-59ebd65865f7",
   "metadata": {},
   "outputs": [
    {
     "data": {
      "text/html": [
       "<div>\n",
       "<style scoped>\n",
       "    .dataframe tbody tr th:only-of-type {\n",
       "        vertical-align: middle;\n",
       "    }\n",
       "\n",
       "    .dataframe tbody tr th {\n",
       "        vertical-align: top;\n",
       "    }\n",
       "\n",
       "    .dataframe thead th {\n",
       "        text-align: right;\n",
       "    }\n",
       "</style>\n",
       "<table border=\"1\" class=\"dataframe\">\n",
       "  <thead>\n",
       "    <tr style=\"text-align: right;\">\n",
       "      <th></th>\n",
       "      <th>Timestamp</th>\n",
       "      <th>Source IP Address</th>\n",
       "      <th>Destination IP Address</th>\n",
       "      <th>Source Port</th>\n",
       "      <th>Destination Port</th>\n",
       "      <th>Protocol</th>\n",
       "      <th>Packet Length</th>\n",
       "      <th>Packet Type</th>\n",
       "      <th>Traffic Type</th>\n",
       "      <th>Malware Indicators</th>\n",
       "      <th>...</th>\n",
       "      <th>Action Taken</th>\n",
       "      <th>Severity Level</th>\n",
       "      <th>User Information</th>\n",
       "      <th>Device Information</th>\n",
       "      <th>Network Segment</th>\n",
       "      <th>country</th>\n",
       "      <th>Proxy Information</th>\n",
       "      <th>Firewall Logs</th>\n",
       "      <th>IDS/IPS Alerts</th>\n",
       "      <th>LA1:X1108og Source</th>\n",
       "    </tr>\n",
       "  </thead>\n",
       "  <tbody>\n",
       "    <tr>\n",
       "      <th>0</th>\n",
       "      <td>5/30/2023 6:33</td>\n",
       "      <td>103.216.15.12</td>\n",
       "      <td>84.9.164.252</td>\n",
       "      <td>31225</td>\n",
       "      <td>17616</td>\n",
       "      <td>ICMP</td>\n",
       "      <td>503</td>\n",
       "      <td>Data</td>\n",
       "      <td>HTTP</td>\n",
       "      <td>IoC Detected</td>\n",
       "      <td>...</td>\n",
       "      <td>Logged</td>\n",
       "      <td>Low</td>\n",
       "      <td>Reyansh Dugal</td>\n",
       "      <td>Mozilla/5.0 (compatible; MSIE 8.0; Windows NT ...</td>\n",
       "      <td>Segment A</td>\n",
       "      <td>China</td>\n",
       "      <td>150.9.97.135</td>\n",
       "      <td>Log Data</td>\n",
       "      <td>NaN</td>\n",
       "      <td>Server</td>\n",
       "    </tr>\n",
       "    <tr>\n",
       "      <th>1</th>\n",
       "      <td>8/26/2020 7:08</td>\n",
       "      <td>78.199.217.198</td>\n",
       "      <td>66.191.137.154</td>\n",
       "      <td>17245</td>\n",
       "      <td>48166</td>\n",
       "      <td>ICMP</td>\n",
       "      <td>1174</td>\n",
       "      <td>Data</td>\n",
       "      <td>HTTP</td>\n",
       "      <td>IoC Detected</td>\n",
       "      <td>...</td>\n",
       "      <td>Blocked</td>\n",
       "      <td>Low</td>\n",
       "      <td>Sumer Rana</td>\n",
       "      <td>Mozilla/5.0 (compatible; MSIE 8.0; Windows NT ...</td>\n",
       "      <td>Segment B</td>\n",
       "      <td>Germany</td>\n",
       "      <td>NaN</td>\n",
       "      <td>Log Data</td>\n",
       "      <td>NaN</td>\n",
       "      <td>Firewall</td>\n",
       "    </tr>\n",
       "    <tr>\n",
       "      <th>2</th>\n",
       "      <td>11/13/2022 8:23</td>\n",
       "      <td>63.79.210.48</td>\n",
       "      <td>198.219.82.17</td>\n",
       "      <td>16811</td>\n",
       "      <td>53600</td>\n",
       "      <td>UDP</td>\n",
       "      <td>306</td>\n",
       "      <td>Control</td>\n",
       "      <td>HTTP</td>\n",
       "      <td>IoC Detected</td>\n",
       "      <td>...</td>\n",
       "      <td>Ignored</td>\n",
       "      <td>Low</td>\n",
       "      <td>Himmat Karpe</td>\n",
       "      <td>Mozilla/5.0 (compatible; MSIE 9.0; Windows NT ...</td>\n",
       "      <td>Segment C</td>\n",
       "      <td>Taiwan</td>\n",
       "      <td>114.133.48.179</td>\n",
       "      <td>Log Data</td>\n",
       "      <td>Alert Data</td>\n",
       "      <td>Firewall</td>\n",
       "    </tr>\n",
       "    <tr>\n",
       "      <th>3</th>\n",
       "      <td>7/2/2023 10:38</td>\n",
       "      <td>163.42.196.10</td>\n",
       "      <td>101.228.192.255</td>\n",
       "      <td>20018</td>\n",
       "      <td>32534</td>\n",
       "      <td>UDP</td>\n",
       "      <td>385</td>\n",
       "      <td>Data</td>\n",
       "      <td>HTTP</td>\n",
       "      <td>NaN</td>\n",
       "      <td>...</td>\n",
       "      <td>Blocked</td>\n",
       "      <td>Medium</td>\n",
       "      <td>Fateh Kibe</td>\n",
       "      <td>Mozilla/5.0 (Macintosh; PPC Mac OS X 10_11_5; ...</td>\n",
       "      <td>Segment B</td>\n",
       "      <td>United States</td>\n",
       "      <td>NaN</td>\n",
       "      <td>NaN</td>\n",
       "      <td>Alert Data</td>\n",
       "      <td>Firewall</td>\n",
       "    </tr>\n",
       "    <tr>\n",
       "      <th>4</th>\n",
       "      <td>7/16/2023 13:11</td>\n",
       "      <td>71.166.185.76</td>\n",
       "      <td>189.243.174.238</td>\n",
       "      <td>6131</td>\n",
       "      <td>26646</td>\n",
       "      <td>TCP</td>\n",
       "      <td>1462</td>\n",
       "      <td>Data</td>\n",
       "      <td>DNS</td>\n",
       "      <td>NaN</td>\n",
       "      <td>...</td>\n",
       "      <td>Blocked</td>\n",
       "      <td>Low</td>\n",
       "      <td>Dhanush Chad</td>\n",
       "      <td>Mozilla/5.0 (compatible; MSIE 5.0; Windows NT ...</td>\n",
       "      <td>Segment C</td>\n",
       "      <td>France</td>\n",
       "      <td>149.6.110.119</td>\n",
       "      <td>NaN</td>\n",
       "      <td>Alert Data</td>\n",
       "      <td>Firewall</td>\n",
       "    </tr>\n",
       "  </tbody>\n",
       "</table>\n",
       "<p>5 rows × 24 columns</p>\n",
       "</div>"
      ],
      "text/plain": [
       "         Timestamp Source IP Address Destination IP Address  Source Port  \\\n",
       "0   5/30/2023 6:33     103.216.15.12           84.9.164.252        31225   \n",
       "1   8/26/2020 7:08    78.199.217.198         66.191.137.154        17245   \n",
       "2  11/13/2022 8:23      63.79.210.48          198.219.82.17        16811   \n",
       "3   7/2/2023 10:38     163.42.196.10        101.228.192.255        20018   \n",
       "4  7/16/2023 13:11     71.166.185.76        189.243.174.238         6131   \n",
       "\n",
       "   Destination Port Protocol  Packet Length Packet Type Traffic Type  \\\n",
       "0             17616     ICMP            503        Data         HTTP   \n",
       "1             48166     ICMP           1174        Data         HTTP   \n",
       "2             53600      UDP            306     Control         HTTP   \n",
       "3             32534      UDP            385        Data         HTTP   \n",
       "4             26646      TCP           1462        Data          DNS   \n",
       "\n",
       "  Malware Indicators  ...  Action Taken Severity Level User Information  \\\n",
       "0       IoC Detected  ...        Logged            Low    Reyansh Dugal   \n",
       "1       IoC Detected  ...       Blocked            Low       Sumer Rana   \n",
       "2       IoC Detected  ...       Ignored            Low     Himmat Karpe   \n",
       "3                NaN  ...       Blocked         Medium       Fateh Kibe   \n",
       "4                NaN  ...       Blocked            Low     Dhanush Chad   \n",
       "\n",
       "                                  Device Information Network Segment  \\\n",
       "0  Mozilla/5.0 (compatible; MSIE 8.0; Windows NT ...       Segment A   \n",
       "1  Mozilla/5.0 (compatible; MSIE 8.0; Windows NT ...       Segment B   \n",
       "2  Mozilla/5.0 (compatible; MSIE 9.0; Windows NT ...       Segment C   \n",
       "3  Mozilla/5.0 (Macintosh; PPC Mac OS X 10_11_5; ...       Segment B   \n",
       "4  Mozilla/5.0 (compatible; MSIE 5.0; Windows NT ...       Segment C   \n",
       "\n",
       "         country Proxy Information Firewall Logs IDS/IPS Alerts  \\\n",
       "0          China      150.9.97.135      Log Data            NaN   \n",
       "1        Germany               NaN      Log Data            NaN   \n",
       "2         Taiwan    114.133.48.179      Log Data     Alert Data   \n",
       "3  United States               NaN           NaN     Alert Data   \n",
       "4         France     149.6.110.119           NaN     Alert Data   \n",
       "\n",
       "  LA1:X1108og Source  \n",
       "0             Server  \n",
       "1           Firewall  \n",
       "2           Firewall  \n",
       "3           Firewall  \n",
       "4           Firewall  \n",
       "\n",
       "[5 rows x 24 columns]"
      ]
     },
     "execution_count": 4,
     "metadata": {},
     "output_type": "execute_result"
    }
   ],
   "source": [
    "## top 5 rows\n",
    "cyber.head()"
   ]
  },
  {
   "cell_type": "code",
   "execution_count": 5,
   "id": "969e6b68-189c-4cfa-bf94-42c2529f7ee7",
   "metadata": {},
   "outputs": [
    {
     "data": {
      "text/html": [
       "<div>\n",
       "<style scoped>\n",
       "    .dataframe tbody tr th:only-of-type {\n",
       "        vertical-align: middle;\n",
       "    }\n",
       "\n",
       "    .dataframe tbody tr th {\n",
       "        vertical-align: top;\n",
       "    }\n",
       "\n",
       "    .dataframe thead th {\n",
       "        text-align: right;\n",
       "    }\n",
       "</style>\n",
       "<table border=\"1\" class=\"dataframe\">\n",
       "  <thead>\n",
       "    <tr style=\"text-align: right;\">\n",
       "      <th></th>\n",
       "      <th>Timestamp</th>\n",
       "      <th>Source IP Address</th>\n",
       "      <th>Destination IP Address</th>\n",
       "      <th>Source Port</th>\n",
       "      <th>Destination Port</th>\n",
       "      <th>Protocol</th>\n",
       "      <th>Packet Length</th>\n",
       "      <th>Packet Type</th>\n",
       "      <th>Traffic Type</th>\n",
       "      <th>Malware Indicators</th>\n",
       "      <th>...</th>\n",
       "      <th>Action Taken</th>\n",
       "      <th>Severity Level</th>\n",
       "      <th>User Information</th>\n",
       "      <th>Device Information</th>\n",
       "      <th>Network Segment</th>\n",
       "      <th>country</th>\n",
       "      <th>Proxy Information</th>\n",
       "      <th>Firewall Logs</th>\n",
       "      <th>IDS/IPS Alerts</th>\n",
       "      <th>LA1:X1108og Source</th>\n",
       "    </tr>\n",
       "  </thead>\n",
       "  <tbody>\n",
       "    <tr>\n",
       "      <th>39995</th>\n",
       "      <td>5/26/2023 14:08</td>\n",
       "      <td>26.36.109.26</td>\n",
       "      <td>121.100.75.240</td>\n",
       "      <td>31005</td>\n",
       "      <td>6764</td>\n",
       "      <td>UDP</td>\n",
       "      <td>1428</td>\n",
       "      <td>Control</td>\n",
       "      <td>HTTP</td>\n",
       "      <td>IoC Detected</td>\n",
       "      <td>...</td>\n",
       "      <td>Logged</td>\n",
       "      <td>Medium</td>\n",
       "      <td>Adira Madan</td>\n",
       "      <td>Mozilla/5.0 (iPad; CPU iPad OS 14_2_1 like Mac...</td>\n",
       "      <td>Segment A</td>\n",
       "      <td>China</td>\n",
       "      <td>NaN</td>\n",
       "      <td>Log Data</td>\n",
       "      <td>Alert Data</td>\n",
       "      <td>Firewall</td>\n",
       "    </tr>\n",
       "    <tr>\n",
       "      <th>39996</th>\n",
       "      <td>3/27/2023 0:38</td>\n",
       "      <td>17.21.163.81</td>\n",
       "      <td>196.108.134.78</td>\n",
       "      <td>2553</td>\n",
       "      <td>28091</td>\n",
       "      <td>UDP</td>\n",
       "      <td>1184</td>\n",
       "      <td>Control</td>\n",
       "      <td>HTTP</td>\n",
       "      <td>IoC Detected</td>\n",
       "      <td>...</td>\n",
       "      <td>Logged</td>\n",
       "      <td>High</td>\n",
       "      <td>Rati Dara</td>\n",
       "      <td>Mozilla/5.0 (Windows; U; Windows 98; Win 9x 4....</td>\n",
       "      <td>Segment C</td>\n",
       "      <td>Paraguay</td>\n",
       "      <td>60.51.30.46</td>\n",
       "      <td>Log Data</td>\n",
       "      <td>NaN</td>\n",
       "      <td>Firewall</td>\n",
       "    </tr>\n",
       "    <tr>\n",
       "      <th>39997</th>\n",
       "      <td>3/31/2022 1:45</td>\n",
       "      <td>162.35.217.57</td>\n",
       "      <td>98.107.0.15</td>\n",
       "      <td>22505</td>\n",
       "      <td>25152</td>\n",
       "      <td>UDP</td>\n",
       "      <td>1043</td>\n",
       "      <td>Data</td>\n",
       "      <td>DNS</td>\n",
       "      <td>IoC Detected</td>\n",
       "      <td>...</td>\n",
       "      <td>Blocked</td>\n",
       "      <td>Low</td>\n",
       "      <td>Samiha Joshi</td>\n",
       "      <td>Mozilla/5.0 (Windows; U; Windows NT 4.0) Apple...</td>\n",
       "      <td>Segment C</td>\n",
       "      <td>China</td>\n",
       "      <td>NaN</td>\n",
       "      <td>Log Data</td>\n",
       "      <td>Alert Data</td>\n",
       "      <td>Server</td>\n",
       "    </tr>\n",
       "    <tr>\n",
       "      <th>39998</th>\n",
       "      <td>9/22/2023 18:32</td>\n",
       "      <td>208.72.233.205</td>\n",
       "      <td>173.79.112.252</td>\n",
       "      <td>20013</td>\n",
       "      <td>2703</td>\n",
       "      <td>UDP</td>\n",
       "      <td>483</td>\n",
       "      <td>Data</td>\n",
       "      <td>FTP</td>\n",
       "      <td>IoC Detected</td>\n",
       "      <td>...</td>\n",
       "      <td>Ignored</td>\n",
       "      <td>Low</td>\n",
       "      <td>Rasha Chauhan</td>\n",
       "      <td>Mozilla/5.0 (X11; Linux i686) AppleWebKit/536....</td>\n",
       "      <td>Segment B</td>\n",
       "      <td>China</td>\n",
       "      <td>137.76.130.8</td>\n",
       "      <td>Log Data</td>\n",
       "      <td>NaN</td>\n",
       "      <td>Server</td>\n",
       "    </tr>\n",
       "    <tr>\n",
       "      <th>39999</th>\n",
       "      <td>10/10/2023 11:59</td>\n",
       "      <td>14.102.21.108</td>\n",
       "      <td>109.198.45.7</td>\n",
       "      <td>50137</td>\n",
       "      <td>55575</td>\n",
       "      <td>ICMP</td>\n",
       "      <td>1175</td>\n",
       "      <td>Control</td>\n",
       "      <td>HTTP</td>\n",
       "      <td>NaN</td>\n",
       "      <td>...</td>\n",
       "      <td>Logged</td>\n",
       "      <td>Medium</td>\n",
       "      <td>Zaina Kumar</td>\n",
       "      <td>Mozilla/5.0 (iPod; U; CPU iPhone OS 3_0 like M...</td>\n",
       "      <td>Segment A</td>\n",
       "      <td>China</td>\n",
       "      <td>112.169.115.139</td>\n",
       "      <td>Log Data</td>\n",
       "      <td>Alert Data</td>\n",
       "      <td>Firewall</td>\n",
       "    </tr>\n",
       "  </tbody>\n",
       "</table>\n",
       "<p>5 rows × 24 columns</p>\n",
       "</div>"
      ],
      "text/plain": [
       "              Timestamp Source IP Address Destination IP Address  Source Port  \\\n",
       "39995   5/26/2023 14:08      26.36.109.26         121.100.75.240        31005   \n",
       "39996    3/27/2023 0:38      17.21.163.81         196.108.134.78         2553   \n",
       "39997    3/31/2022 1:45     162.35.217.57            98.107.0.15        22505   \n",
       "39998   9/22/2023 18:32    208.72.233.205         173.79.112.252        20013   \n",
       "39999  10/10/2023 11:59     14.102.21.108           109.198.45.7        50137   \n",
       "\n",
       "       Destination Port Protocol  Packet Length Packet Type Traffic Type  \\\n",
       "39995              6764      UDP           1428     Control         HTTP   \n",
       "39996             28091      UDP           1184     Control         HTTP   \n",
       "39997             25152      UDP           1043        Data          DNS   \n",
       "39998              2703      UDP            483        Data          FTP   \n",
       "39999             55575     ICMP           1175     Control         HTTP   \n",
       "\n",
       "      Malware Indicators  ...  Action Taken Severity Level User Information  \\\n",
       "39995       IoC Detected  ...        Logged         Medium      Adira Madan   \n",
       "39996       IoC Detected  ...        Logged           High        Rati Dara   \n",
       "39997       IoC Detected  ...       Blocked            Low     Samiha Joshi   \n",
       "39998       IoC Detected  ...       Ignored            Low    Rasha Chauhan   \n",
       "39999                NaN  ...        Logged         Medium      Zaina Kumar   \n",
       "\n",
       "                                      Device Information Network Segment  \\\n",
       "39995  Mozilla/5.0 (iPad; CPU iPad OS 14_2_1 like Mac...       Segment A   \n",
       "39996  Mozilla/5.0 (Windows; U; Windows 98; Win 9x 4....       Segment C   \n",
       "39997  Mozilla/5.0 (Windows; U; Windows NT 4.0) Apple...       Segment C   \n",
       "39998  Mozilla/5.0 (X11; Linux i686) AppleWebKit/536....       Segment B   \n",
       "39999  Mozilla/5.0 (iPod; U; CPU iPhone OS 3_0 like M...       Segment A   \n",
       "\n",
       "        country Proxy Information Firewall Logs IDS/IPS Alerts  \\\n",
       "39995     China               NaN      Log Data     Alert Data   \n",
       "39996  Paraguay       60.51.30.46      Log Data            NaN   \n",
       "39997     China               NaN      Log Data     Alert Data   \n",
       "39998     China      137.76.130.8      Log Data            NaN   \n",
       "39999     China   112.169.115.139      Log Data     Alert Data   \n",
       "\n",
       "      LA1:X1108og Source  \n",
       "39995           Firewall  \n",
       "39996           Firewall  \n",
       "39997             Server  \n",
       "39998             Server  \n",
       "39999           Firewall  \n",
       "\n",
       "[5 rows x 24 columns]"
      ]
     },
     "execution_count": 5,
     "metadata": {},
     "output_type": "execute_result"
    }
   ],
   "source": [
    "##bottom 5 rows\n",
    "cyber.tail()"
   ]
  },
  {
   "cell_type": "markdown",
   "id": "666cbb6d-fcc1-456d-94be-3f7de838a470",
   "metadata": {},
   "source": [
    "### Detailled and more specific analysis of data"
   ]
  },
  {
   "cell_type": "code",
   "execution_count": 6,
   "id": "37985e35-059c-4b37-8998-0b8f9177c282",
   "metadata": {},
   "outputs": [],
   "source": [
    "# choice of relevant columns - as copy, in order not to affect original dataframe\n",
    "cyber_data = cyber [[\"Timestamp\", \"Attack Type\", \"country\", \"Severity Level\", \"Action Taken\", \"Device Information\"]].copy()"
   ]
  },
  {
   "cell_type": "code",
   "execution_count": 7,
   "id": "69d3f7bf-80b3-4856-a91c-a8d416e22c8a",
   "metadata": {},
   "outputs": [
    {
     "data": {
      "text/html": [
       "<div>\n",
       "<style scoped>\n",
       "    .dataframe tbody tr th:only-of-type {\n",
       "        vertical-align: middle;\n",
       "    }\n",
       "\n",
       "    .dataframe tbody tr th {\n",
       "        vertical-align: top;\n",
       "    }\n",
       "\n",
       "    .dataframe thead th {\n",
       "        text-align: right;\n",
       "    }\n",
       "</style>\n",
       "<table border=\"1\" class=\"dataframe\">\n",
       "  <thead>\n",
       "    <tr style=\"text-align: right;\">\n",
       "      <th></th>\n",
       "      <th>Timestamp</th>\n",
       "      <th>Attack Type</th>\n",
       "      <th>country</th>\n",
       "      <th>Severity Level</th>\n",
       "      <th>Action Taken</th>\n",
       "      <th>Device Information</th>\n",
       "    </tr>\n",
       "  </thead>\n",
       "  <tbody>\n",
       "    <tr>\n",
       "      <th>0</th>\n",
       "      <td>5/30/2023 6:33</td>\n",
       "      <td>Malware</td>\n",
       "      <td>China</td>\n",
       "      <td>Low</td>\n",
       "      <td>Logged</td>\n",
       "      <td>Mozilla/5.0 (compatible; MSIE 8.0; Windows NT ...</td>\n",
       "    </tr>\n",
       "    <tr>\n",
       "      <th>1</th>\n",
       "      <td>8/26/2020 7:08</td>\n",
       "      <td>Malware</td>\n",
       "      <td>Germany</td>\n",
       "      <td>Low</td>\n",
       "      <td>Blocked</td>\n",
       "      <td>Mozilla/5.0 (compatible; MSIE 8.0; Windows NT ...</td>\n",
       "    </tr>\n",
       "    <tr>\n",
       "      <th>2</th>\n",
       "      <td>11/13/2022 8:23</td>\n",
       "      <td>DDoS</td>\n",
       "      <td>Taiwan</td>\n",
       "      <td>Low</td>\n",
       "      <td>Ignored</td>\n",
       "      <td>Mozilla/5.0 (compatible; MSIE 9.0; Windows NT ...</td>\n",
       "    </tr>\n",
       "    <tr>\n",
       "      <th>3</th>\n",
       "      <td>7/2/2023 10:38</td>\n",
       "      <td>Malware</td>\n",
       "      <td>United States</td>\n",
       "      <td>Medium</td>\n",
       "      <td>Blocked</td>\n",
       "      <td>Mozilla/5.0 (Macintosh; PPC Mac OS X 10_11_5; ...</td>\n",
       "    </tr>\n",
       "    <tr>\n",
       "      <th>4</th>\n",
       "      <td>7/16/2023 13:11</td>\n",
       "      <td>DDoS</td>\n",
       "      <td>France</td>\n",
       "      <td>Low</td>\n",
       "      <td>Blocked</td>\n",
       "      <td>Mozilla/5.0 (compatible; MSIE 5.0; Windows NT ...</td>\n",
       "    </tr>\n",
       "    <tr>\n",
       "      <th>...</th>\n",
       "      <td>...</td>\n",
       "      <td>...</td>\n",
       "      <td>...</td>\n",
       "      <td>...</td>\n",
       "      <td>...</td>\n",
       "      <td>...</td>\n",
       "    </tr>\n",
       "    <tr>\n",
       "      <th>39995</th>\n",
       "      <td>5/26/2023 14:08</td>\n",
       "      <td>DDoS</td>\n",
       "      <td>China</td>\n",
       "      <td>Medium</td>\n",
       "      <td>Logged</td>\n",
       "      <td>Mozilla/5.0 (iPad; CPU iPad OS 14_2_1 like Mac...</td>\n",
       "    </tr>\n",
       "    <tr>\n",
       "      <th>39996</th>\n",
       "      <td>3/27/2023 0:38</td>\n",
       "      <td>DDoS</td>\n",
       "      <td>Paraguay</td>\n",
       "      <td>High</td>\n",
       "      <td>Logged</td>\n",
       "      <td>Mozilla/5.0 (Windows; U; Windows 98; Win 9x 4....</td>\n",
       "    </tr>\n",
       "    <tr>\n",
       "      <th>39997</th>\n",
       "      <td>3/31/2022 1:45</td>\n",
       "      <td>DDoS</td>\n",
       "      <td>China</td>\n",
       "      <td>Low</td>\n",
       "      <td>Blocked</td>\n",
       "      <td>Mozilla/5.0 (Windows; U; Windows NT 4.0) Apple...</td>\n",
       "    </tr>\n",
       "    <tr>\n",
       "      <th>39998</th>\n",
       "      <td>9/22/2023 18:32</td>\n",
       "      <td>Malware</td>\n",
       "      <td>China</td>\n",
       "      <td>Low</td>\n",
       "      <td>Ignored</td>\n",
       "      <td>Mozilla/5.0 (X11; Linux i686) AppleWebKit/536....</td>\n",
       "    </tr>\n",
       "    <tr>\n",
       "      <th>39999</th>\n",
       "      <td>10/10/2023 11:59</td>\n",
       "      <td>Intrusion</td>\n",
       "      <td>China</td>\n",
       "      <td>Medium</td>\n",
       "      <td>Logged</td>\n",
       "      <td>Mozilla/5.0 (iPod; U; CPU iPhone OS 3_0 like M...</td>\n",
       "    </tr>\n",
       "  </tbody>\n",
       "</table>\n",
       "<p>40000 rows × 6 columns</p>\n",
       "</div>"
      ],
      "text/plain": [
       "              Timestamp Attack Type        country Severity Level  \\\n",
       "0        5/30/2023 6:33     Malware          China            Low   \n",
       "1        8/26/2020 7:08     Malware        Germany            Low   \n",
       "2       11/13/2022 8:23        DDoS         Taiwan            Low   \n",
       "3        7/2/2023 10:38     Malware  United States         Medium   \n",
       "4       7/16/2023 13:11        DDoS         France            Low   \n",
       "...                 ...         ...            ...            ...   \n",
       "39995   5/26/2023 14:08        DDoS          China         Medium   \n",
       "39996    3/27/2023 0:38        DDoS       Paraguay           High   \n",
       "39997    3/31/2022 1:45        DDoS          China            Low   \n",
       "39998   9/22/2023 18:32     Malware          China            Low   \n",
       "39999  10/10/2023 11:59   Intrusion          China         Medium   \n",
       "\n",
       "      Action Taken                                 Device Information  \n",
       "0           Logged  Mozilla/5.0 (compatible; MSIE 8.0; Windows NT ...  \n",
       "1          Blocked  Mozilla/5.0 (compatible; MSIE 8.0; Windows NT ...  \n",
       "2          Ignored  Mozilla/5.0 (compatible; MSIE 9.0; Windows NT ...  \n",
       "3          Blocked  Mozilla/5.0 (Macintosh; PPC Mac OS X 10_11_5; ...  \n",
       "4          Blocked  Mozilla/5.0 (compatible; MSIE 5.0; Windows NT ...  \n",
       "...            ...                                                ...  \n",
       "39995       Logged  Mozilla/5.0 (iPad; CPU iPad OS 14_2_1 like Mac...  \n",
       "39996       Logged  Mozilla/5.0 (Windows; U; Windows 98; Win 9x 4....  \n",
       "39997      Blocked  Mozilla/5.0 (Windows; U; Windows NT 4.0) Apple...  \n",
       "39998      Ignored  Mozilla/5.0 (X11; Linux i686) AppleWebKit/536....  \n",
       "39999       Logged  Mozilla/5.0 (iPod; U; CPU iPhone OS 3_0 like M...  \n",
       "\n",
       "[40000 rows x 6 columns]"
      ]
     },
     "execution_count": 7,
     "metadata": {},
     "output_type": "execute_result"
    }
   ],
   "source": [
    "cyber_data"
   ]
  },
  {
   "cell_type": "markdown",
   "id": "e1165e7c-2580-4415-be6d-efbc18aacdea",
   "metadata": {},
   "source": [
    "#### Data manipulation: Timestamp\n",
    "- format change (from timestamp to datetime)\n",
    "- assigning new format to dataframe\n",
    "- adding year and month as separate categories"
   ]
  },
  {
   "cell_type": "code",
   "execution_count": 8,
   "id": "e96d653e-3391-4ff0-a466-b27716757c1f",
   "metadata": {},
   "outputs": [
    {
     "data": {
      "text/plain": [
       "0       2023-05-30 06:33:00\n",
       "1       2020-08-26 07:08:00\n",
       "2       2022-11-13 08:23:00\n",
       "3       2023-07-02 10:38:00\n",
       "4       2023-07-16 13:11:00\n",
       "                ...        \n",
       "39995   2023-05-26 14:08:00\n",
       "39996   2023-03-27 00:38:00\n",
       "39997   2022-03-31 01:45:00\n",
       "39998   2023-09-22 18:32:00\n",
       "39999   2023-10-10 11:59:00\n",
       "Name: Timestamp, Length: 40000, dtype: datetime64[ns]"
      ]
     },
     "execution_count": 8,
     "metadata": {},
     "output_type": "execute_result"
    }
   ],
   "source": [
    "## transform of timestamp format to datetime format\n",
    "pd.to_datetime (cyber_data[\"Timestamp\"])"
   ]
  },
  {
   "cell_type": "code",
   "execution_count": 9,
   "id": "d7c7b34d-8baa-484c-b610-565966843e01",
   "metadata": {},
   "outputs": [],
   "source": [
    "## assigning datetime for Timestamp column\n",
    "cyber_data[\"Timestamp\"] = pd.to_datetime (cyber_data[\"Timestamp\"])"
   ]
  },
  {
   "cell_type": "code",
   "execution_count": 10,
   "id": "d5c59331-30e9-4786-a0a5-263f744c8327",
   "metadata": {},
   "outputs": [
    {
     "data": {
      "text/plain": [
       "0       2023-05-30 06:33:00\n",
       "1       2020-08-26 07:08:00\n",
       "2       2022-11-13 08:23:00\n",
       "3       2023-07-02 10:38:00\n",
       "4       2023-07-16 13:11:00\n",
       "                ...        \n",
       "39995   2023-05-26 14:08:00\n",
       "39996   2023-03-27 00:38:00\n",
       "39997   2022-03-31 01:45:00\n",
       "39998   2023-09-22 18:32:00\n",
       "39999   2023-10-10 11:59:00\n",
       "Name: Timestamp, Length: 40000, dtype: datetime64[ns]"
      ]
     },
     "execution_count": 10,
     "metadata": {},
     "output_type": "execute_result"
    }
   ],
   "source": [
    "## check that assignment was successful\n",
    "cyber_data [\"Timestamp\"]"
   ]
  },
  {
   "cell_type": "code",
   "execution_count": 11,
   "id": "e76b4648-7f6b-4bc5-8982-96577b58d419",
   "metadata": {},
   "outputs": [
    {
     "data": {
      "text/plain": [
       "array([2023, 2020, 2022, 2021], dtype=int32)"
      ]
     },
     "execution_count": 11,
     "metadata": {},
     "output_type": "execute_result"
    }
   ],
   "source": [
    "#year\n",
    "cyber_data [\"Timestamp\"].dt.year.unique()"
   ]
  },
  {
   "cell_type": "code",
   "execution_count": 12,
   "id": "67dc9b8d-5d98-4357-bbda-6ba94710b201",
   "metadata": {},
   "outputs": [],
   "source": [
    "#separate column: year\n",
    "cyber_data [\"Year\"] = cyber_data [\"Timestamp\"].dt.year"
   ]
  },
  {
   "cell_type": "code",
   "execution_count": 13,
   "id": "8bc50781-8adc-46ef-be94-5df7dde4ed4a",
   "metadata": {},
   "outputs": [],
   "source": [
    "# separate column: month\n",
    "cyber_data [\"Month\"] = cyber_data [\"Timestamp\"].dt.month"
   ]
  },
  {
   "cell_type": "code",
   "execution_count": 14,
   "id": "7834b66a-c7f8-4033-933e-ceaa386f56c8",
   "metadata": {},
   "outputs": [],
   "source": [
    "#separate column: day\n",
    "cyber_data [\"Day\"] = cyber_data [\"Timestamp\"].dt.day"
   ]
  },
  {
   "cell_type": "code",
   "execution_count": 15,
   "id": "e74a6060-0996-466a-8910-160d6396ba88",
   "metadata": {},
   "outputs": [
    {
     "data": {
      "text/html": [
       "<div>\n",
       "<style scoped>\n",
       "    .dataframe tbody tr th:only-of-type {\n",
       "        vertical-align: middle;\n",
       "    }\n",
       "\n",
       "    .dataframe tbody tr th {\n",
       "        vertical-align: top;\n",
       "    }\n",
       "\n",
       "    .dataframe thead th {\n",
       "        text-align: right;\n",
       "    }\n",
       "</style>\n",
       "<table border=\"1\" class=\"dataframe\">\n",
       "  <thead>\n",
       "    <tr style=\"text-align: right;\">\n",
       "      <th></th>\n",
       "      <th>Timestamp</th>\n",
       "      <th>Attack Type</th>\n",
       "      <th>country</th>\n",
       "      <th>Severity Level</th>\n",
       "      <th>Action Taken</th>\n",
       "      <th>Device Information</th>\n",
       "      <th>Year</th>\n",
       "      <th>Month</th>\n",
       "      <th>Day</th>\n",
       "    </tr>\n",
       "  </thead>\n",
       "  <tbody>\n",
       "    <tr>\n",
       "      <th>0</th>\n",
       "      <td>2023-05-30 06:33:00</td>\n",
       "      <td>Malware</td>\n",
       "      <td>China</td>\n",
       "      <td>Low</td>\n",
       "      <td>Logged</td>\n",
       "      <td>Mozilla/5.0 (compatible; MSIE 8.0; Windows NT ...</td>\n",
       "      <td>2023</td>\n",
       "      <td>5</td>\n",
       "      <td>30</td>\n",
       "    </tr>\n",
       "    <tr>\n",
       "      <th>1</th>\n",
       "      <td>2020-08-26 07:08:00</td>\n",
       "      <td>Malware</td>\n",
       "      <td>Germany</td>\n",
       "      <td>Low</td>\n",
       "      <td>Blocked</td>\n",
       "      <td>Mozilla/5.0 (compatible; MSIE 8.0; Windows NT ...</td>\n",
       "      <td>2020</td>\n",
       "      <td>8</td>\n",
       "      <td>26</td>\n",
       "    </tr>\n",
       "    <tr>\n",
       "      <th>2</th>\n",
       "      <td>2022-11-13 08:23:00</td>\n",
       "      <td>DDoS</td>\n",
       "      <td>Taiwan</td>\n",
       "      <td>Low</td>\n",
       "      <td>Ignored</td>\n",
       "      <td>Mozilla/5.0 (compatible; MSIE 9.0; Windows NT ...</td>\n",
       "      <td>2022</td>\n",
       "      <td>11</td>\n",
       "      <td>13</td>\n",
       "    </tr>\n",
       "    <tr>\n",
       "      <th>3</th>\n",
       "      <td>2023-07-02 10:38:00</td>\n",
       "      <td>Malware</td>\n",
       "      <td>United States</td>\n",
       "      <td>Medium</td>\n",
       "      <td>Blocked</td>\n",
       "      <td>Mozilla/5.0 (Macintosh; PPC Mac OS X 10_11_5; ...</td>\n",
       "      <td>2023</td>\n",
       "      <td>7</td>\n",
       "      <td>2</td>\n",
       "    </tr>\n",
       "    <tr>\n",
       "      <th>4</th>\n",
       "      <td>2023-07-16 13:11:00</td>\n",
       "      <td>DDoS</td>\n",
       "      <td>France</td>\n",
       "      <td>Low</td>\n",
       "      <td>Blocked</td>\n",
       "      <td>Mozilla/5.0 (compatible; MSIE 5.0; Windows NT ...</td>\n",
       "      <td>2023</td>\n",
       "      <td>7</td>\n",
       "      <td>16</td>\n",
       "    </tr>\n",
       "    <tr>\n",
       "      <th>...</th>\n",
       "      <td>...</td>\n",
       "      <td>...</td>\n",
       "      <td>...</td>\n",
       "      <td>...</td>\n",
       "      <td>...</td>\n",
       "      <td>...</td>\n",
       "      <td>...</td>\n",
       "      <td>...</td>\n",
       "      <td>...</td>\n",
       "    </tr>\n",
       "    <tr>\n",
       "      <th>39995</th>\n",
       "      <td>2023-05-26 14:08:00</td>\n",
       "      <td>DDoS</td>\n",
       "      <td>China</td>\n",
       "      <td>Medium</td>\n",
       "      <td>Logged</td>\n",
       "      <td>Mozilla/5.0 (iPad; CPU iPad OS 14_2_1 like Mac...</td>\n",
       "      <td>2023</td>\n",
       "      <td>5</td>\n",
       "      <td>26</td>\n",
       "    </tr>\n",
       "    <tr>\n",
       "      <th>39996</th>\n",
       "      <td>2023-03-27 00:38:00</td>\n",
       "      <td>DDoS</td>\n",
       "      <td>Paraguay</td>\n",
       "      <td>High</td>\n",
       "      <td>Logged</td>\n",
       "      <td>Mozilla/5.0 (Windows; U; Windows 98; Win 9x 4....</td>\n",
       "      <td>2023</td>\n",
       "      <td>3</td>\n",
       "      <td>27</td>\n",
       "    </tr>\n",
       "    <tr>\n",
       "      <th>39997</th>\n",
       "      <td>2022-03-31 01:45:00</td>\n",
       "      <td>DDoS</td>\n",
       "      <td>China</td>\n",
       "      <td>Low</td>\n",
       "      <td>Blocked</td>\n",
       "      <td>Mozilla/5.0 (Windows; U; Windows NT 4.0) Apple...</td>\n",
       "      <td>2022</td>\n",
       "      <td>3</td>\n",
       "      <td>31</td>\n",
       "    </tr>\n",
       "    <tr>\n",
       "      <th>39998</th>\n",
       "      <td>2023-09-22 18:32:00</td>\n",
       "      <td>Malware</td>\n",
       "      <td>China</td>\n",
       "      <td>Low</td>\n",
       "      <td>Ignored</td>\n",
       "      <td>Mozilla/5.0 (X11; Linux i686) AppleWebKit/536....</td>\n",
       "      <td>2023</td>\n",
       "      <td>9</td>\n",
       "      <td>22</td>\n",
       "    </tr>\n",
       "    <tr>\n",
       "      <th>39999</th>\n",
       "      <td>2023-10-10 11:59:00</td>\n",
       "      <td>Intrusion</td>\n",
       "      <td>China</td>\n",
       "      <td>Medium</td>\n",
       "      <td>Logged</td>\n",
       "      <td>Mozilla/5.0 (iPod; U; CPU iPhone OS 3_0 like M...</td>\n",
       "      <td>2023</td>\n",
       "      <td>10</td>\n",
       "      <td>10</td>\n",
       "    </tr>\n",
       "  </tbody>\n",
       "</table>\n",
       "<p>40000 rows × 9 columns</p>\n",
       "</div>"
      ],
      "text/plain": [
       "                Timestamp Attack Type        country Severity Level  \\\n",
       "0     2023-05-30 06:33:00     Malware          China            Low   \n",
       "1     2020-08-26 07:08:00     Malware        Germany            Low   \n",
       "2     2022-11-13 08:23:00        DDoS         Taiwan            Low   \n",
       "3     2023-07-02 10:38:00     Malware  United States         Medium   \n",
       "4     2023-07-16 13:11:00        DDoS         France            Low   \n",
       "...                   ...         ...            ...            ...   \n",
       "39995 2023-05-26 14:08:00        DDoS          China         Medium   \n",
       "39996 2023-03-27 00:38:00        DDoS       Paraguay           High   \n",
       "39997 2022-03-31 01:45:00        DDoS          China            Low   \n",
       "39998 2023-09-22 18:32:00     Malware          China            Low   \n",
       "39999 2023-10-10 11:59:00   Intrusion          China         Medium   \n",
       "\n",
       "      Action Taken                                 Device Information  Year  \\\n",
       "0           Logged  Mozilla/5.0 (compatible; MSIE 8.0; Windows NT ...  2023   \n",
       "1          Blocked  Mozilla/5.0 (compatible; MSIE 8.0; Windows NT ...  2020   \n",
       "2          Ignored  Mozilla/5.0 (compatible; MSIE 9.0; Windows NT ...  2022   \n",
       "3          Blocked  Mozilla/5.0 (Macintosh; PPC Mac OS X 10_11_5; ...  2023   \n",
       "4          Blocked  Mozilla/5.0 (compatible; MSIE 5.0; Windows NT ...  2023   \n",
       "...            ...                                                ...   ...   \n",
       "39995       Logged  Mozilla/5.0 (iPad; CPU iPad OS 14_2_1 like Mac...  2023   \n",
       "39996       Logged  Mozilla/5.0 (Windows; U; Windows 98; Win 9x 4....  2023   \n",
       "39997      Blocked  Mozilla/5.0 (Windows; U; Windows NT 4.0) Apple...  2022   \n",
       "39998      Ignored  Mozilla/5.0 (X11; Linux i686) AppleWebKit/536....  2023   \n",
       "39999       Logged  Mozilla/5.0 (iPod; U; CPU iPhone OS 3_0 like M...  2023   \n",
       "\n",
       "       Month  Day  \n",
       "0          5   30  \n",
       "1          8   26  \n",
       "2         11   13  \n",
       "3          7    2  \n",
       "4          7   16  \n",
       "...      ...  ...  \n",
       "39995      5   26  \n",
       "39996      3   27  \n",
       "39997      3   31  \n",
       "39998      9   22  \n",
       "39999     10   10  \n",
       "\n",
       "[40000 rows x 9 columns]"
      ]
     },
     "execution_count": 15,
     "metadata": {},
     "output_type": "execute_result"
    }
   ],
   "source": [
    "#checking that separate date type columns were added\n",
    "cyber_data"
   ]
  },
  {
   "cell_type": "markdown",
   "id": "364128ae-3cba-4c60-97b3-e4b64b4ca3be",
   "metadata": {},
   "source": [
    "## Aggregations and statistical analysis"
   ]
  },
  {
   "cell_type": "markdown",
   "id": "7bcf42dd-15df-4dc3-a707-39811563db40",
   "metadata": {},
   "source": [
    "### Number and average of cyber attacks by year, country, attack type "
   ]
  },
  {
   "cell_type": "markdown",
   "id": "3b4a4723-23df-4179-8a4f-7ccc90090789",
   "metadata": {},
   "source": [
    "#### Number of attacks by year"
   ]
  },
  {
   "cell_type": "code",
   "execution_count": 16,
   "id": "d29daada-b52c-40d9-9391-3e6f0ae4b553",
   "metadata": {},
   "outputs": [
    {
     "data": {
      "text/plain": [
       "Year\n",
       "2020    10573\n",
       "2021    10538\n",
       "2022    10750\n",
       "2023     8139\n",
       "Name: Attack Type, dtype: int64"
      ]
     },
     "execution_count": 16,
     "metadata": {},
     "output_type": "execute_result"
    }
   ],
   "source": [
    "# number of attacks by year\n",
    "cyber_data.groupby ([\"Year\"])[\"Attack Type\"].count()"
   ]
  },
  {
   "cell_type": "markdown",
   "id": "06d4e30e-bdfc-401d-90c9-9a42316f1651",
   "metadata": {},
   "source": [
    "#### Number of attacks by month"
   ]
  },
  {
   "cell_type": "code",
   "execution_count": 17,
   "id": "d9db55a1-255f-4de7-bb69-25ff9bb52c0a",
   "metadata": {},
   "outputs": [
    {
     "data": {
      "text/plain": [
       "Year  Month\n",
       "2020  1        814\n",
       "      2        830\n",
       "      3        906\n",
       "      4        825\n",
       "      5        904\n",
       "      6        889\n",
       "      7        880\n",
       "      8        904\n",
       "      9        877\n",
       "      10       905\n",
       "      11       915\n",
       "      12       924\n",
       "2021  1        858\n",
       "      2        788\n",
       "      3        902\n",
       "      4        865\n",
       "      5        874\n",
       "      6        929\n",
       "      7        904\n",
       "      8        898\n",
       "      9        909\n",
       "      10       891\n",
       "      11       869\n",
       "      12       851\n",
       "2022  1        883\n",
       "      2        807\n",
       "      3        925\n",
       "      4        884\n",
       "      5        909\n",
       "      6        928\n",
       "      7        950\n",
       "      8        905\n",
       "      9        843\n",
       "      10       897\n",
       "      11       919\n",
       "      12       900\n",
       "2023  1        823\n",
       "      2        807\n",
       "      3        945\n",
       "      4        847\n",
       "      5        908\n",
       "      6        863\n",
       "      7        889\n",
       "      8        908\n",
       "      9        853\n",
       "      10       296\n",
       "Name: Attack Type, dtype: int64"
      ]
     },
     "execution_count": 17,
     "metadata": {},
     "output_type": "execute_result"
    }
   ],
   "source": [
    "cyber_data.groupby ([\"Year\", \"Month\"])[\"Attack Type\"].count()"
   ]
  },
  {
   "cell_type": "code",
   "execution_count": 18,
   "id": "d6141a01-5967-410c-b242-f613d705b86e",
   "metadata": {},
   "outputs": [],
   "source": [
    "cyber_sh = cyber_data.groupby ([\"Year\", \"Month\"])[\"Attack Type\"].count().to_frame"
   ]
  },
  {
   "cell_type": "code",
   "execution_count": 19,
   "id": "45de38d7-ede5-45c0-ad98-c4dafb7b8d1c",
   "metadata": {},
   "outputs": [
    {
     "data": {
      "text/plain": [
       "<bound method Series.to_frame of Year  Month\n",
       "2020  1        814\n",
       "      2        830\n",
       "      3        906\n",
       "      4        825\n",
       "      5        904\n",
       "      6        889\n",
       "      7        880\n",
       "      8        904\n",
       "      9        877\n",
       "      10       905\n",
       "      11       915\n",
       "      12       924\n",
       "2021  1        858\n",
       "      2        788\n",
       "      3        902\n",
       "      4        865\n",
       "      5        874\n",
       "      6        929\n",
       "      7        904\n",
       "      8        898\n",
       "      9        909\n",
       "      10       891\n",
       "      11       869\n",
       "      12       851\n",
       "2022  1        883\n",
       "      2        807\n",
       "      3        925\n",
       "      4        884\n",
       "      5        909\n",
       "      6        928\n",
       "      7        950\n",
       "      8        905\n",
       "      9        843\n",
       "      10       897\n",
       "      11       919\n",
       "      12       900\n",
       "2023  1        823\n",
       "      2        807\n",
       "      3        945\n",
       "      4        847\n",
       "      5        908\n",
       "      6        863\n",
       "      7        889\n",
       "      8        908\n",
       "      9        853\n",
       "      10       296\n",
       "Name: Attack Type, dtype: int64>"
      ]
     },
     "execution_count": 19,
     "metadata": {},
     "output_type": "execute_result"
    }
   ],
   "source": [
    "cyber_sh"
   ]
  },
  {
   "cell_type": "markdown",
   "id": "b7a63318-79cb-41f1-b332-d8f752d652c1",
   "metadata": {},
   "source": [
    "#### Number of attacks by country"
   ]
  },
  {
   "cell_type": "code",
   "execution_count": 20,
   "id": "15a667b4-c0ec-4f83-b1df-5ff174ab7829",
   "metadata": {},
   "outputs": [
    {
     "data": {
      "text/plain": [
       "country\n",
       "Albania        12\n",
       "Algeria         8\n",
       "Angola          2\n",
       "Argentina     129\n",
       "Armenia        10\n",
       "             ... \n",
       "Uzbekistan      8\n",
       "Venezuela      91\n",
       "Vietnam       254\n",
       "Zambia          2\n",
       "Zimbabwe        2\n",
       "Name: Attack Type, Length: 126, dtype: int64"
      ]
     },
     "execution_count": 20,
     "metadata": {},
     "output_type": "execute_result"
    }
   ],
   "source": [
    "cyber_data.groupby ([\"country\"])[\"Attack Type\"].count()"
   ]
  },
  {
   "cell_type": "code",
   "execution_count": 21,
   "id": "7e9204f2-d8ae-4846-ba3d-77a08ae31b03",
   "metadata": {},
   "outputs": [
    {
     "data": {
      "text/plain": [
       "country\n",
       "China                       16393\n",
       "United States                8363\n",
       "Taiwan                       1294\n",
       "Japan                        1247\n",
       "South Korea                  1130\n",
       "                            ...  \n",
       "Lebanon                         1\n",
       "Mali                            1\n",
       "Northern Mariana Islands        1\n",
       "Nepal                           1\n",
       "Suriname                        1\n",
       "Name: Attack Type, Length: 126, dtype: int64"
      ]
     },
     "execution_count": 21,
     "metadata": {},
     "output_type": "execute_result"
    }
   ],
   "source": [
    "##Sorted from most attacks to least attacks\n",
    "cyber_data.groupby ([\"country\"])[\"Attack Type\"].count().sort_values(ascending = False)"
   ]
  },
  {
   "cell_type": "code",
   "execution_count": 22,
   "id": "45ba8a44-4750-4585-895e-3b296fb368b7",
   "metadata": {},
   "outputs": [
    {
     "data": {
      "text/plain": [
       "country\n",
       "China                   16393\n",
       "United States            8363\n",
       "Taiwan                   1294\n",
       "Japan                    1247\n",
       "South Korea              1130\n",
       "Russia                   1035\n",
       "Canada                    892\n",
       "Germany                   712\n",
       "Brazil                    569\n",
       "India                     541\n",
       "Netherlands               533\n",
       "Hong Kong                 528\n",
       "France                    485\n",
       "Sweden                    365\n",
       "Ukraine                   365\n",
       "United Kingdom            296\n",
       "Vietnam                   254\n",
       "Spain                     246\n",
       "Iran                      245\n",
       "Turkey                    237\n",
       "Australia                 221\n",
       "Romania                   220\n",
       "Thailand                  216\n",
       "Bulgaria                  205\n",
       "Poland                    203\n",
       "Singapore                 201\n",
       "Italy                     192\n",
       "Indonesia                 163\n",
       "Argentina                 129\n",
       "Philippines               111\n",
       "Iceland                   109\n",
       "Lithuania                 102\n",
       "United Arab Emirates       98\n",
       "Malaysia                   97\n",
       "Venezuela                  91\n",
       "Israel                     87\n",
       "Hungary                    86\n",
       "South Africa               68\n",
       "Mexico                     68\n",
       "Colombia                   66\n",
       "Latvia                     66\n",
       "Serbia                     60\n",
       "Ireland                    58\n",
       "Egypt                      53\n",
       "Chile                      48\n",
       "Czechia                    47\n",
       "Saudi Arabia               44\n",
       "Bangladesh                 42\n",
       "Georgia                    40\n",
       "Jordan                     39\n",
       "Name: Attack Type, dtype: int64"
      ]
     },
     "execution_count": 22,
     "metadata": {},
     "output_type": "execute_result"
    }
   ],
   "source": [
    "##50 most attacked countries\n",
    "cyber_data.groupby ([\"country\"])[\"Attack Type\"].count().sort_values(ascending = False).head(50)"
   ]
  },
  {
   "cell_type": "markdown",
   "id": "7a398607-b7d8-46ca-8bc1-7e494b08bc89",
   "metadata": {},
   "source": [
    "#### Statistics on cyber attacks per country"
   ]
  },
  {
   "cell_type": "code",
   "execution_count": 23,
   "id": "5a2b3bb1-68b8-48d2-9b09-c0d2c1f5103a",
   "metadata": {},
   "outputs": [
    {
     "data": {
      "text/plain": [
       "count      126.000000\n",
       "mean       314.507937\n",
       "std       1638.468747\n",
       "min          1.000000\n",
       "25%          5.000000\n",
       "50%         14.500000\n",
       "75%        101.000000\n",
       "max      16393.000000\n",
       "Name: Attack Type, dtype: float64"
      ]
     },
     "execution_count": 23,
     "metadata": {},
     "output_type": "execute_result"
    }
   ],
   "source": [
    "c = cyber_data.groupby ([\"country\"])[\"Attack Type\"].count().sort_values(ascending = False)\n",
    "c.describe()"
   ]
  },
  {
   "cell_type": "markdown",
   "id": "57c13462-7567-4fdc-a23a-9e51efb8dcee",
   "metadata": {},
   "source": [
    " #### Statistics on cyber attacks per time period (month and year)"
   ]
  },
  {
   "cell_type": "code",
   "execution_count": 24,
   "id": "12fda06b-aede-4178-975d-766f2121829d",
   "metadata": {},
   "outputs": [
    {
     "data": {
      "text/plain": [
       "count     46.000000\n",
       "mean     869.565217\n",
       "std       94.602949\n",
       "min      296.000000\n",
       "25%      854.250000\n",
       "50%      890.000000\n",
       "75%      907.500000\n",
       "max      950.000000\n",
       "Name: Attack Type, dtype: float64"
      ]
     },
     "execution_count": 24,
     "metadata": {},
     "output_type": "execute_result"
    }
   ],
   "source": [
    "t = cyber_data.groupby ([\"Year\", \"Month\"])[\"Attack Type\"].count()\n",
    "t.describe()"
   ]
  },
  {
   "cell_type": "markdown",
   "id": "9d8f50fa-8d23-446d-8fe1-01501226ac36",
   "metadata": {},
   "source": [
    "#### Statistics on cyber attacks per country"
   ]
  },
  {
   "cell_type": "code",
   "execution_count": 25,
   "id": "b3ed29a0-aa10-4870-a43f-301305d037d1",
   "metadata": {},
   "outputs": [
    {
     "data": {
      "text/plain": [
       "<bound method NDFrame.describe of country   Year  Month\n",
       "Albania   2020  2        1\n",
       "                7        1\n",
       "                12       1\n",
       "          2021  5        1\n",
       "                7        1\n",
       "                        ..\n",
       "Vietnam   2023  10       1\n",
       "Zambia    2022  9        1\n",
       "          2023  4        1\n",
       "Zimbabwe  2022  6        1\n",
       "          2023  8        1\n",
       "Name: Attack Type, Length: 2618, dtype: int64>"
      ]
     },
     "execution_count": 25,
     "metadata": {},
     "output_type": "execute_result"
    }
   ],
   "source": [
    "comb =  cyber_data.groupby ([\"country\", \"Year\", \"Month\"])[\"Attack Type\"].count()\n",
    "comb.describe"
   ]
  },
  {
   "cell_type": "markdown",
   "id": "6f58e064-178f-4521-bbd2-cb1841999106",
   "metadata": {},
   "source": [
    "#### Statistics on cyber attacks per attack type"
   ]
  },
  {
   "cell_type": "markdown",
   "id": "1ca8024e-ac14-47a7-9eeb-c214e63820d1",
   "metadata": {},
   "source": [
    "- attack type per country (descending, top 50)"
   ]
  },
  {
   "cell_type": "code",
   "execution_count": 26,
   "id": "968bb6a7-c1ef-4cee-972f-4ef0652733f7",
   "metadata": {},
   "outputs": [],
   "source": [
    "at = cyber_data.groupby ([\"Attack Type\", \"country\"])[\"country\"].count().sort_values(ascending = False).head(50)"
   ]
  },
  {
   "cell_type": "code",
   "execution_count": 27,
   "id": "7287a10d-f2f3-4365-a787-a1026e7d1d63",
   "metadata": {},
   "outputs": [
    {
     "data": {
      "text/plain": [
       "Attack Type  country       \n",
       "Malware      China             5523\n",
       "DDoS         China             5468\n",
       "Intrusion    China             5402\n",
       "DDoS         United States     2868\n",
       "Intrusion    United States     2770\n",
       "Malware      United States     2725\n",
       "Intrusion    Taiwan             450\n",
       "DDoS         Taiwan             434\n",
       "Intrusion    Japan              430\n",
       "Malware      Taiwan             410\n",
       "             Japan              409\n",
       "DDoS         Japan              408\n",
       "             South Korea        395\n",
       "Intrusion    South Korea        374\n",
       "Malware      South Korea        361\n",
       "DDoS         Russia             350\n",
       "Malware      Russia             344\n",
       "Intrusion    Russia             341\n",
       "DDoS         Canada             309\n",
       "Malware      Canada             308\n",
       "Intrusion    Canada             275\n",
       "Malware      Germany            254\n",
       "DDoS         Germany            233\n",
       "Intrusion    Germany            225\n",
       "DDoS         Brazil             198\n",
       "Malware      India              196\n",
       "             Brazil             190\n",
       "DDoS         Netherlands        185\n",
       "Intrusion    India              183\n",
       "             Brazil             181\n",
       "             France             181\n",
       "DDoS         Hong Kong          180\n",
       "Intrusion    Hong Kong          178\n",
       "             Netherlands        176\n",
       "Malware      Netherlands        172\n",
       "             Hong Kong          170\n",
       "DDoS         India              162\n",
       "Malware      France             156\n",
       "DDoS         France             148\n",
       "Malware      Sweden             140\n",
       "DDoS         Ukraine            129\n",
       "Intrusion    Ukraine            122\n",
       "DDoS         Sweden             117\n",
       "Malware      Ukraine            114\n",
       "Intrusion    Sweden             108\n",
       "             United Kingdom     105\n",
       "             Vietnam            100\n",
       "DDoS         United Kingdom      97\n",
       "Malware      United Kingdom      94\n",
       "             Turkey              91\n",
       "Name: country, dtype: int64"
      ]
     },
     "execution_count": 27,
     "metadata": {},
     "output_type": "execute_result"
    }
   ],
   "source": [
    "at"
   ]
  },
  {
   "cell_type": "markdown",
   "id": "129dcbe3-32be-43f4-a7b4-54b25ef6a3d0",
   "metadata": {},
   "source": [
    "## Visualization"
   ]
  },
  {
   "cell_type": "markdown",
   "id": "649e8287-ab04-4322-93cd-d6aba33f02f8",
   "metadata": {},
   "source": [
    "### Attacks by month and year"
   ]
  },
  {
   "cell_type": "code",
   "execution_count": 28,
   "id": "612776e7-08ee-4cb6-906d-96a9f960de02",
   "metadata": {},
   "outputs": [
    {
     "data": {
      "text/plain": [
       "[Text(0.5, 1.0, 'Cyber attacks by year and month')]"
      ]
     },
     "execution_count": 28,
     "metadata": {},
     "output_type": "execute_result"
    },
    {
     "data": {
      "image/png": "[encoded data removed]",
      "text/plain": [
       "<Figure size 640x480 with 1 Axes>"
      ]
     },
     "metadata": {},
     "output_type": "display_data"
    }
   ],
   "source": [
    "sns.countplot (data=cyber_data, x=\"Month\", hue=\"Year\").set(title=\"Cyber attacks by year and month\")"
   ]
  },
  {
   "cell_type": "code",
   "execution_count": 29,
   "id": "9b0ad423-60e7-4c67-b10f-4d602b3b6e8c",
   "metadata": {},
   "outputs": [
    {
     "data": {
      "text/plain": [
       "<seaborn.axisgrid.FacetGrid at 0x2772be1c1a0>"
      ]
     },
     "execution_count": 29,
     "metadata": {},
     "output_type": "execute_result"
    },
    {
     "data": {
      "image/png": "[encoded data removed]",
      "text/plain": [
       "<Figure size 2011.11x500 with 4 Axes>"
      ]
     },
     "metadata": {},
     "output_type": "display_data"
    }
   ],
   "source": [
    "#Same data, presented in 4 graphs, each by year\n",
    "sns.catplot (data=cyber_data, x=\"Month\", col=\"Year\", kind = \"count\")"
   ]
  },
  {
   "cell_type": "markdown",
   "id": "89eb8798-8012-456c-b322-9e984e20f2a9",
   "metadata": {},
   "source": [
    "### Attacks types by year"
   ]
  },
  {
   "cell_type": "code",
   "execution_count": 30,
   "id": "3d70e78b-4ae5-4792-aaed-023f0a90e55d",
   "metadata": {},
   "outputs": [
    {
     "data": {
      "text/plain": [
       "[Text(0.5, 1.0, 'Attack Types according to year')]"
      ]
     },
     "execution_count": 30,
     "metadata": {},
     "output_type": "execute_result"
    },
    {
     "data": {
      "image/png": "[encoded data removed]",
      "text/plain": [
       "<Figure size 640x480 with 1 Axes>"
      ]
     },
     "metadata": {},
     "output_type": "display_data"
    }
   ],
   "source": [
    "sns.kdeplot(data=cyber_data, x=\"Year\", hue=\"Attack Type\", multiple=\"stack\").set(title=\"Attack Types according to year\")"
   ]
  },
  {
   "cell_type": "markdown",
   "id": "c8344977-bfb5-4a70-8471-3661781a1ae9",
   "metadata": {},
   "source": [
    "### Attacks by country"
   ]
  },
  {
   "cell_type": "code",
   "execution_count": 31,
   "id": "5b695ea4-ec7e-4c92-a9f8-7c76f324a7b8",
   "metadata": {},
   "outputs": [
    {
     "data": {
      "image/png": "[encoded data removed]",
      "text/plain": [
       "<Figure size 640x480 with 1 Axes>"
      ]
     },
     "metadata": {},
     "output_type": "display_data"
    }
   ],
   "source": [
    "#Pie chart of 10 most attacked countries, in percentage\n",
    "mask=cyber.groupby(\"country\")[\"Attack Type\"].count().sort_values(ascending = False).head(10)\n",
    "plt.pie(mask,labels=mask.index, autopct=\"%1.2f%%\")\n",
    "plt.title(\"Percentual distribution of attacks by country\")\n",
    "plt.show()"
   ]
  },
  {
   "cell_type": "markdown",
   "id": "42a50dbf-243f-4e72-9271-a28c8da4c965",
   "metadata": {},
   "source": [
    "### Attacks by attack types"
   ]
  },
  {
   "cell_type": "code",
   "execution_count": 32,
   "id": "5e45f545-8095-49fd-9ac4-75b5188545f5",
   "metadata": {},
   "outputs": [
    {
     "data": {
      "text/plain": [
       "<seaborn.axisgrid.FacetGrid at 0x2772fbe8320>"
      ]
     },
     "execution_count": 32,
     "metadata": {},
     "output_type": "execute_result"
    },
    {
     "data": {
      "image/png": "[encoded data removed]",
      "text/plain": [
       "<Figure size 511.111x500 with 1 Axes>"
      ]
     },
     "metadata": {},
     "output_type": "display_data"
    }
   ],
   "source": [
    "sns.catplot(data=cyber_data, x=\"Attack Type\", y=\"Year\", kind=\"box\").set(title=\"Cyber attacks by attack type\")\n"
   ]
  },
  {
   "cell_type": "markdown",
   "id": "a171eaa7-40f5-4d27-ab0a-0977e6fed0fe",
   "metadata": {},
   "source": [
    "## Conclusions\n",
    "\n",
    "## Answer to research questions and check with assumptions\n",
    "\n",
    "### Which countries are attacked the most, which the least, and why?\n",
    "\n",
    "China                   16393\n",
    "United States            8363\n",
    "Taiwan                   1294\n",
    "Japan                    1247\n",
    "South Korea              1130\n",
    "Russia                   1035\n",
    "Canada                    892\n",
    "Germany                   712\n",
    "Brazil                    569\n",
    "India                     541\n",
    "\n",
    "The assumption that the more advanced the country is (in particular, regarding internet infrastructure), the higher is the number and severity level of the attack - was correct. Therefore, China, the US and European countries are on top of the list, countries like Mali and Nepal on the bottom.\n",
    "  \n",
    "\n",
    "### What is the average number of attack per time, per country and combined?\n",
    "\n",
    "The distribution over the years was very similar and - unlike the assumption - there was NO significant increase in 2020 (Corona year). Regarding the months, there are peaks (March and July) and months with lower number of cyber attacks (particularly February), but not very significantly.\n",
    "\n",
    "### Statistical information\n",
    "\n",
    "- Out of the 10 most attacked countries, more than 50% of attacks were on China (see graph), followed by the United States with 25%. The remaining 25% were split between 3 more Asian countries, Brasil, Canada, Russia, Germany and India.\n",
    "\n",
    "- Attack types (Malware, DDoS Attack Type, Intrusion) are distributed evenly.\n",
    "\n",
    "- On average, there were 314 attacks by country, and 870 per year. However, the standard deviation is unusual high, which means that this data might not be accurate. "
   ]
  },
  {
   "cell_type": "code",
   "execution_count": null,
   "id": "26360be0-2838-4eb0-b24b-05bb6484108a",
   "metadata": {},
   "outputs": [],
   "source": []
  }
 ],
 "metadata": {
  "kernelspec": {
   "display_name": "Python 3",
   "language": "python",
   "name": "python3"
  },
  "language_info": {
   "codemirror_mode": {
    "name": "ipython",
    "version": 3
   },
   "file_extension": ".py",
   "mimetype": "text/x-python",
   "name": "python",
   "nbconvert_exporter": "python",
   "pygments_lexer": "ipython3",
   "version": "3.12.0"
  }
 },
 "nbformat": 4,
 "nbformat_minor": 5
}
